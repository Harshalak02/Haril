{
 "cells": [
  {
   "cell_type": "markdown",
   "id": "d894e219",
   "metadata": {},
   "source": [
    "# Name : Data Science Tools and Ecosystem"
   ]
  },
  {
   "cell_type": "markdown",
   "id": "cf46c531",
   "metadata": {},
   "source": [
    "### Some of the popular languages that Data Scientists use are:\n",
    "#### Python.\n",
    "#### R.\n",
    "#### SQL.\n",
    "#### Java.\n",
    "#### Julia.\n",
    "#### Scala.\n",
    "#### C/C++.\n",
    "#### JavaScript. "
   ]
  },
  {
   "cell_type": "markdown",
   "id": "4429b7d5",
   "metadata": {},
   "source": [
    "# In this notebook, Data Science Tools and Ecosystem are summarized.\n",
    "# Objectives :\n",
    "# List popular languages that Data Scientists use.\n",
    "# List commonly used libraries used by Data Scientists.\n",
    "# Review On data sceince tools"
   ]
  },
  {
   "cell_type": "markdown",
   "id": "637acb09",
   "metadata": {},
   "source": [
    "#### Some of the commonly used libraries used by Data Scientists include:\n",
    "##### Tensorflow\n",
    "##### Numpy\n",
    "##### Pandas\n",
    "##### Matplotlib.\n",
    "##### Keras.\n",
    "##### SciKit-Learn.\n",
    "##### PyTorch.\n",
    "##### Scrapy."
   ]
  },
  {
   "cell_type": "markdown",
   "id": "7bbaf2e7",
   "metadata": {},
   "source": [
    "| Data science tools: |\n",
    "|SAS|\n",
    "|Apache Spark|\n",
    "|BigML|"
   ]
  },
  {
   "cell_type": "markdown",
   "id": "75888357",
   "metadata": {},
   "source": [
    "### Below are a few examples of evaluating arithmetic expressions in Python\n"
   ]
  },
  {
   "cell_type": "code",
   "execution_count": 14,
   "id": "67263524",
   "metadata": {},
   "outputs": [
    {
     "data": {
      "text/plain": [
       "9"
      ]
     },
     "execution_count": 14,
     "metadata": {},
     "output_type": "execute_result"
    }
   ],
   "source": [
    "code = compile(\"5 + 4\", \"<string>\", \"Ha\")\n",
    "eval(code)"
   ]
  },
  {
   "cell_type": "code",
   "execution_count": 15,
   "id": "f35ed4ff",
   "metadata": {},
   "outputs": [
    {
     "data": {
      "text/plain": [
       "65449.84694978735"
      ]
     },
     "execution_count": 15,
     "metadata": {},
     "output_type": "execute_result"
    }
   ],
   "source": [
    "import math\n",
    "code2 = compile(\"4 / 3 * math.pi * math.pow(25, 3)\", \"<string>\", \"eval\")\n",
    "eval(code2)"
   ]
  },
  {
   "cell_type": "code",
   "execution_count": 16,
   "id": "fd32c5da",
   "metadata": {},
   "outputs": [
    {
     "data": {
      "text/plain": [
       "17"
      ]
     },
     "execution_count": 16,
     "metadata": {},
     "output_type": "execute_result"
    }
   ],
   "source": [
    "(3*4)+5"
   ]
  },
  {
   "cell_type": "code",
   "execution_count": 17,
   "id": "8d8e1695",
   "metadata": {},
   "outputs": [
    {
     "name": "stdout",
     "output_type": "stream",
     "text": [
      "0 days, 3.3333333333333335 hours, 0 mins. \n"
     ]
    }
   ],
   "source": [
    "days = 0\n",
    "hours = 0\n",
    "mins = 0\n",
    "\n",
    "time = 200\n",
    "#days = time / 1440\n",
    "leftover_minutes = time % 1440\n",
    "hours = leftover_minutes / 60\n",
    "#mins = time - (days*1440) - (hours*60)\n",
    "print(str(days) + \" days, \" + str(hours) + \" hours, \" + str(mins) +  \" mins. \")\n",
    "\n",
    "# Result: 3.3333333333333335 hours"
   ]
  },
  {
   "cell_type": "markdown",
   "id": "67d8750d",
   "metadata": {},
   "source": [
    "### - List popular languages for Data Science.\n",
    "- Introduce essential Data Science libraries like Pandas, NumPy, and Scikit-learn.\n",
    "- Explore interactive computing and data analysis using Jupyter Notebook.\n",
    "- Understand basic data manipulation and analysis techniques in Python.\n",
    "- Discover fundamental data visualization tools like Matplotlib and Seaborn"
   ]
  },
  {
   "cell_type": "markdown",
   "id": "4547675a",
   "metadata": {},
   "source": [
    "# Author :\n",
    "# Harshal"
   ]
  },
  {
   "cell_type": "code",
   "execution_count": null,
   "id": "a8c6be88",
   "metadata": {},
   "outputs": [],
   "source": []
  }
 ],
 "metadata": {
  "kernelspec": {
   "display_name": "Python 3 (ipykernel)",
   "language": "python",
   "name": "python3"
  },
  "language_info": {
   "codemirror_mode": {
    "name": "ipython",
    "version": 3
   },
   "file_extension": ".py",
   "mimetype": "text/x-python",
   "name": "python",
   "nbconvert_exporter": "python",
   "pygments_lexer": "ipython3",
   "version": "3.9.13"
  }
 },
 "nbformat": 4,
 "nbformat_minor": 5
}
